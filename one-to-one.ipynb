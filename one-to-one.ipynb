{
 "cells": [
  {
   "cell_type": "code",
   "execution_count": 1,
   "metadata": {
    "collapsed": false
   },
   "outputs": [
    {
     "name": "stdout",
     "output_type": "stream",
     "text": [
      "function DA_match(m,n)\n",
      "    function pref(m,n) #選考表の作成\n",
      "        m_pref = shuffle!(collect(0:n))\n",
      "        n_pref = shuffle!(collect(0:m))\n",
      "        #1列目だけ作成しておく\n",
      "        for i in　2:m\n",
      "            each = shuffle!(collect(0:n))\n",
      "            m_pref = hcat(m_pref, each)\n",
      "        end\n",
      "        for i in 2:n\n",
      "            each = shuffle!(collect(0:m))\n",
      "            n_pref = hcat(n_pref,each)\n",
      "        end\n",
      "        #あとはそれぞれloop\n",
      "        return m_pref, n_pref\n",
      "    end\n",
      "\n",
      "    men = 1:m\n",
      "    wemen = 1:n\n",
      "    m_match = zeros(Int64,m)\n",
      "    n_match = zeros(Int64,n)\n",
      "    m_pref, n_pref = pref(m,n)\n",
      "    for turn in 1:n+1\n",
      "        for man in men\n",
      "            if m_match[man] == 0\n",
      "                #「既に婚約者がいない」かつ\n",
      "                if find(m_pref[:,man] .==0)[1] < turn\n",
      "                    #「結婚しないほうがマシ」なら、プロポーズ発動\n",
      "                    #なんかfindがarrayで返されるので[1]つけてます\n",
      "                    if find(n_pref[:,m_pref[turn,man]] .== man)[1] < find(n_pref[:,m_pref[turn,man]] .== n_match[m_pref[turn,man]])[1] \n",
      "                        #自分が相手の婚約者（いないなら、０）より、マシであれば成婚\n",
      "                        if n_match[m_pref[turn,man]] != 0\n",
      "                            m_match[n_match[m_pref[turn,man]]] = 0\n",
      "                        end\n",
      "                        m_match[man] = m_pref[turn,man]\n",
      "                        n_match[m_pref[turn,man]] = man\n",
      "                    end\n",
      "                end\n",
      "            end\n",
      "        end\n",
      "    end\n",
      "return m_match, n_match\n",
      "end"
     ]
    }
   ],
   "source": [
    ";cat one-to-one.jl "
   ]
  },
  {
   "cell_type": "code",
   "execution_count": 2,
   "metadata": {
    "collapsed": false
   },
   "outputs": [
    {
     "data": {
      "text/plain": [
       "DA_match (generic function with 1 method)"
      ]
     },
     "execution_count": 2,
     "metadata": {},
     "output_type": "execute_result"
    }
   ],
   "source": [
    "include(\"one-to-one.jl\") #ファイル読み込み"
   ]
  },
  {
   "cell_type": "code",
   "execution_count": 3,
   "metadata": {
    "collapsed": false
   },
   "outputs": [
    {
     "data": {
      "text/plain": [
       "([0,4,5,0,3,0,0,8,9,10],[0,0,5,2,3,0,0,8,9,10])"
      ]
     },
     "execution_count": 3,
     "metadata": {},
     "output_type": "execute_result"
    }
   ],
   "source": [
    "DA_match(10,10) #男10,女10"
   ]
  },
  {
   "cell_type": "markdown",
   "metadata": {},
   "source": [
    "競争相手が増えると大変ぽい（当然）"
   ]
  },
  {
   "cell_type": "code",
   "execution_count": 4,
   "metadata": {
    "collapsed": false
   },
   "outputs": [
    {
     "data": {
      "text/plain": [
       "([0,2,0,0,0,0,10,7,0,8,6,0,0,0,0,0,9,0,0,1],[20,2,0,0,0,11,8,10,17,7])"
      ]
     },
     "execution_count": 4,
     "metadata": {},
     "output_type": "execute_result"
    }
   ],
   "source": [
    "DA_match(20,10) #男20,女10"
   ]
  },
  {
   "cell_type": "markdown",
   "metadata": {},
   "source": [
    "東大の男女比率でやってみよう"
   ]
  },
  {
   "cell_type": "code",
   "execution_count": 5,
   "metadata": {
    "collapsed": false
   },
   "outputs": [
    {
     "data": {
      "text/plain": [
       "([0,0,0,0,0,0,0,8,0,0  …  0,9,2,0,0,0,0,0,4,0],[39,73,40,79,0,35,32,8,72,19,52,41,53,15,31,16,27,51,64,47])"
      ]
     },
     "execution_count": 5,
     "metadata": {},
     "output_type": "execute_result"
    }
   ],
   "source": [
    "men,wemen =DA_match(80,20)"
   ]
  },
  {
   "cell_type": "code",
   "execution_count": 6,
   "metadata": {
    "collapsed": false
   },
   "outputs": [
    {
     "data": {
      "text/plain": [
       "0.2375"
      ]
     },
     "execution_count": 6,
     "metadata": {},
     "output_type": "execute_result"
    }
   ],
   "source": [
    "length(find(men .!= 0))/length(men)\n",
    "#男子の成婚率"
   ]
  },
  {
   "cell_type": "code",
   "execution_count": 7,
   "metadata": {
    "collapsed": false
   },
   "outputs": [
    {
     "data": {
      "text/plain": [
       "0.95"
      ]
     },
     "execution_count": 7,
     "metadata": {},
     "output_type": "execute_result"
    }
   ],
   "source": [
    "length(find(wemen .!= 0))/length(wemen)\n",
    "#女子の成婚率"
   ]
  },
  {
   "cell_type": "markdown",
   "metadata": {},
   "source": [
    "悲しいなぁ…（当然）"
   ]
  }
 ],
 "metadata": {
  "kernelspec": {
   "display_name": "Julia 0.4.5",
   "language": "julia",
   "name": "julia-0.4"
  },
  "language_info": {
   "file_extension": ".jl",
   "mimetype": "application/julia",
   "name": "julia",
   "version": "0.4.5"
  }
 },
 "nbformat": 4,
 "nbformat_minor": 0
}
