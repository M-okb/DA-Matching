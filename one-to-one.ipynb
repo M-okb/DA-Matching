{
 "cells": [
  {
   "cell_type": "code",
   "execution_count": 1,
   "metadata": {
    "collapsed": false
   },
   "outputs": [
    {
     "data": {
      "text/plain": [
       "pref (generic function with 1 method)"
      ]
     },
     "execution_count": 1,
     "metadata": {},
     "output_type": "execute_result"
    }
   ],
   "source": [
    "include(\"one-to-one.jl\") #ファイル読み込み"
   ]
  },
  {
   "cell_type": "markdown",
   "metadata": {},
   "source": [
    "<a href=https://github.com/M-okb/DA-Matching/blob/master/one-to-one.jl>内容はここにあります<a>"
   ]
  },
  {
   "cell_type": "code",
   "execution_count": 2,
   "metadata": {
    "collapsed": false
   },
   "outputs": [],
   "source": [
    "using Matching"
   ]
  },
  {
   "cell_type": "code",
   "execution_count": 3,
   "metadata": {
    "collapsed": false
   },
   "outputs": [
    {
     "data": {
      "text/plain": [
       "(\n",
       "9x12 Array{Int64,2}:\n",
       " 3  3  5  3  2  3  6  5  7  3  5  5\n",
       " 8  6  3  0  0  7  7  4  8  7  1  3\n",
       " 5  8  0  4  7  6  5  7  6  0  7  2\n",
       " 2  0  4  8  6  2  1  6  4  2  2  0\n",
       " 7  2  1  6  8  4  8  3  1  8  0  1\n",
       " 0  4  6  1  5  8  0  0  5  1  4  6\n",
       " 4  5  8  2  3  1  2  2  3  6  8  7\n",
       " 6  7  7  7  4  5  3  8  0  4  3  8\n",
       " 1  1  2  5  1  0  4  1  2  5  6  4,\n",
       "\n",
       "13x8 Array{Int64,2}:\n",
       "  8   1   3   2  11   8   3   2\n",
       "  0  11   6   0   6   5   7   3\n",
       "  5   2   2   6   1   6  11  11\n",
       "  7  12   9   7  10   7  12   1\n",
       "  2   9   4   9   8  11   8   7\n",
       "  9  10  12   3   5   0   5   9\n",
       " 11   7  11  11   7   3  10  10\n",
       "  4   0   8  12   0  12   1   5\n",
       "  3   6   1   4   9   4   9   6\n",
       "  6   3   5   8   3   1   4   8\n",
       " 12   8  10   5   2   9   2  12\n",
       "  1   5   7   1   4   2   6   0\n",
       " 10   4   0  10  12  10   0   4)"
      ]
     },
     "execution_count": 3,
     "metadata": {},
     "output_type": "execute_result"
    }
   ],
   "source": [
    "m_pref, n_pref = random_prefs(12,8)"
   ]
  },
  {
   "cell_type": "code",
   "execution_count": 4,
   "metadata": {
    "collapsed": false
   },
   "outputs": [
    {
     "data": {
      "text/plain": [
       "([2,8,3,0,0,6,0,7,0,0,5,0],[0,1,3,0,11,6,8,2])"
      ]
     },
     "execution_count": 4,
     "metadata": {},
     "output_type": "execute_result"
    }
   ],
   "source": [
    "DA_match(m_pref, n_pref)"
   ]
  },
  {
   "cell_type": "code",
   "execution_count": 5,
   "metadata": {
    "collapsed": false
   },
   "outputs": [
    {
     "name": "stdout",
     "output_type": "stream",
     "text": [
      "DA_match: Test Failed\n",
      "  Expression: m_matched_computed == m_matched_expected\n",
      "   Evaluated: [0,2,1,0] == [1,2,3,0]\n",
      " in record at /Users/okbokair/.julia/v0.4/BaseTestNext/src/BaseTestNext.jl:320\n",
      " in do_test at /Users/okbokair/.julia/v0.4/BaseTestNext/src/BaseTestNext.jl:192\n",
      " [inlined code] from /Users/okbokair/sourcetree/DA-Matching/test_deferred_acceptance.jl:38\n",
      " in anonymous at no file:0\n",
      " in include at /Applications/Julia-0.4.5.app/Contents/Resources/julia/lib/julia/sys.dylib\n",
      " in include_from_node1 at /Applications/Julia-0.4.5.app/Contents/Resources/julia/lib/julia/sys.dylib\n",
      " in include_string at loading.jl:282\n",
      " in execute_request_0x535c5df2 at /Users/okbokair/.julia/v0.4/IJulia/src/execute_request.jl:182\n",
      " in eventloop at /Users/okbokair/.julia/v0.4/IJulia/src/IJulia.jl:142\n",
      " in anonymous at task.jl:447\n",
      "DA_match: Test Failed\n",
      "  Expression: f_matched_computed == f_matched_expected\n",
      "   Evaluated: [3,2,0] == [1,2,3]\n",
      " in record at /Users/okbokair/.julia/v0.4/BaseTestNext/src/BaseTestNext.jl:320\n",
      " in do_test at /Users/okbokair/.julia/v0.4/BaseTestNext/src/BaseTestNext.jl:192\n",
      " [inlined code] from /Users/okbokair/sourcetree/DA-Matching/test_deferred_acceptance.jl:39\n",
      " in anonymous at no file:0\n",
      " in include at /Applications/Julia-0.4.5.app/Contents/Resources/julia/lib/julia/sys.dylib\n",
      " in include_from_node1 at /Applications/Julia-0.4.5.app/Contents/Resources/julia/lib/julia/sys.dylib\n",
      " in include_string at loading.jl:282\n",
      " in execute_request_0x535c5df2 at /Users/okbokair/.julia/v0.4/IJulia/src/execute_request.jl:182\n",
      " in eventloop at /Users/okbokair/.julia/v0.4/IJulia/src/IJulia.jl:142\n",
      " in anonymous at task.jl:447\n",
      "Test Summary:         | Pass  Fail  Total\n",
      "Testing one-to-one.jl |    2     2      4\n",
      "  DA_match            |    2     2      4\n"
     ]
    },
    {
     "ename": "LoadError",
     "evalue": "LoadError: LoadError: Some tests did not pass: 2 passed, 2 failed, 0 errored.\nwhile loading /Users/okbokair/sourcetree/DA-Matching/test_deferred_acceptance.jl, in expression starting on line 17\nwhile loading In[5], in expression starting on line 1",
     "output_type": "error",
     "traceback": [
      "LoadError: LoadError: Some tests did not pass: 2 passed, 2 failed, 0 errored.\nwhile loading /Users/okbokair/sourcetree/DA-Matching/test_deferred_acceptance.jl, in expression starting on line 17\nwhile loading In[5], in expression starting on line 1",
      ""
     ]
    }
   ],
   "source": [
    "include(\"test_deferred_acceptance.jl\")"
   ]
  },
  {
   "cell_type": "markdown",
   "metadata": {},
   "source": [
    "何がダメなのじゃ〜〜〜"
   ]
  }
 ],
 "metadata": {
  "kernelspec": {
   "display_name": "Julia 0.4.5",
   "language": "julia",
   "name": "julia-0.4"
  },
  "language_info": {
   "file_extension": ".jl",
   "mimetype": "application/julia",
   "name": "julia",
   "version": "0.4.5"
  }
 },
 "nbformat": 4,
 "nbformat_minor": 0
}
