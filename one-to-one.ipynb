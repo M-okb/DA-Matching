{
 "cells": [
  {
   "cell_type": "code",
   "execution_count": 1,
   "metadata": {
    "collapsed": false
   },
   "outputs": [
    {
     "data": {
      "text/plain": [
       "pref (generic function with 1 method)"
      ]
     },
     "execution_count": 1,
     "metadata": {},
     "output_type": "execute_result"
    }
   ],
   "source": [
    "include(\"one-to-one.jl\") #ファイル読み込み #DA_algo()とpref()の２つがある"
   ]
  },
  {
   "cell_type": "markdown",
   "metadata": {},
   "source": [
    "<a href=https://github.com/M-okb/DA-Matching/blob/master/one-to-one.jl>内容はここにあります</a>"
   ]
  },
  {
   "cell_type": "code",
   "execution_count": 2,
   "metadata": {
    "collapsed": false
   },
   "outputs": [],
   "source": [
    "using Matching"
   ]
  },
  {
   "cell_type": "code",
   "execution_count": 3,
   "metadata": {
    "collapsed": false
   },
   "outputs": [
    {
     "data": {
      "text/plain": [
       "(\n",
       "9x12 Array{Int64,2}:\n",
       " 1  4  4  4  8  5  2  7  1  2  1  2\n",
       " 4  7  1  8  1  4  1  5  0  0  7  4\n",
       " 5  3  8  6  7  3  0  0  4  1  0  6\n",
       " 0  2  5  0  0  2  5  3  6  8  6  5\n",
       " 3  8  2  5  2  7  8  6  5  5  5  1\n",
       " 8  1  3  1  3  6  6  4  3  6  2  7\n",
       " 6  0  6  2  5  1  7  1  2  4  8  8\n",
       " 7  5  0  3  4  8  4  2  8  3  3  3\n",
       " 2  6  7  7  6  0  3  8  7  7  4  0,\n",
       "\n",
       "13x8 Array{Int64,2}:\n",
       " 10   7  12   3  11   6  10   1\n",
       "  9   8   1   4   9  12   6   8\n",
       "  1   0   8   8   0   5   7   6\n",
       "  2   9   3   0  10   3   4   4\n",
       "  4   1  11   6   8   2  12  11\n",
       "  3   6   2   1   1  11   8   0\n",
       "  8  12   9   9   5   4   5  10\n",
       "  5  10  10  11  12   7   1   9\n",
       " 12   3   6   2   2   8   2   3\n",
       "  0   2   5  12   4  10   9   2\n",
       " 11   4   7   5   6   0   0   7\n",
       "  7  11   0   7   3   1   3  12\n",
       "  6   5   4  10   7   9  11   5)"
      ]
     },
     "execution_count": 3,
     "metadata": {},
     "output_type": "execute_result"
    }
   ],
   "source": [
    "m_pref, n_pref = random_prefs(12,8)"
   ]
  },
  {
   "cell_type": "code",
   "execution_count": 4,
   "metadata": {
    "collapsed": false
   },
   "outputs": [
    {
     "data": {
      "text/plain": [
       "([0,3,4,8,0,7,2,0,1,0,0,6],[9,7,2,3,0,12,6,4])"
      ]
     },
     "execution_count": 4,
     "metadata": {},
     "output_type": "execute_result"
    }
   ],
   "source": [
    "DA_algo(m_pref, n_pref)"
   ]
  },
  {
   "cell_type": "code",
   "execution_count": 5,
   "metadata": {
    "collapsed": false
   },
   "outputs": [
    {
     "name": "stdout",
     "output_type": "stream",
     "text": [
      "Test Summary:         | Pass  Total\n",
      "Testing one-to-one.jl |    4      4\n"
     ]
    },
    {
     "data": {
      "text/plain": [
       "BaseTestNext.DefaultTestSet(\"Testing one-to-one.jl\",Any[BaseTestNext.DefaultTestSet(\"DA_algo\",Any[Test Passed\n",
       "  Expression: m_matched_computed == m_matched_expected\n",
       "   Evaluated: [1,2,3,0] == [1,2,3,0],Test Passed\n",
       "  Expression: f_matched_computed == f_matched_expected\n",
       "   Evaluated: [1,2,3] == [1,2,3],Test Passed\n",
       "  Expression: m_matched_computed == m_matched_expected\n",
       "   Evaluated: [1,2,3,0] == [1,2,3,0],Test Passed\n",
       "  Expression: f_matched_computed == f_matched_expected\n",
       "   Evaluated: [1,2,3] == [1,2,3]],false)],false)"
      ]
     },
     "execution_count": 5,
     "metadata": {},
     "output_type": "execute_result"
    }
   ],
   "source": [
    "include(\"test_deferred_acceptance.jl\")"
   ]
  },
  {
   "cell_type": "markdown",
   "metadata": {},
   "source": [
    "ふふふふ…\n",
    "ふははははは！！！！！！！！！！！"
   ]
  }
 ],
 "metadata": {
  "kernelspec": {
   "display_name": "Julia 0.4.5",
   "language": "julia",
   "name": "julia-0.4"
  },
  "language_info": {
   "file_extension": ".jl",
   "mimetype": "application/julia",
   "name": "julia",
   "version": "0.4.5"
  }
 },
 "nbformat": 4,
 "nbformat_minor": 0
}
